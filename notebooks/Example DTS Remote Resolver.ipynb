{
 "cells": [
  {
   "cell_type": "markdown",
   "metadata": {},
   "source": [
    "Using a DTS Resolver\n",
    "==================\n",
    "\n",
    "*This example is powered up thanks to the API available at Alpheios.net*\n"
   ]
  },
  {
   "cell_type": "code",
   "execution_count": 1,
   "metadata": {},
   "outputs": [],
   "source": [
    "# Just importing the parent module, do not change this if you execute the code\n",
    "# from the git repository\n",
    "import os\n",
    "import sys\n",
    "nb_dir = os.path.split(os.getcwd())[0]\n",
    "if nb_dir not in sys.path:\n",
    "    sys.path.append(nb_dir)\n"
   ]
  },
  {
   "cell_type": "markdown",
   "metadata": {},
   "source": [
    "## Create the resolver\n",
    "\n",
    "With the following line we create the resolver :"
   ]
  },
  {
   "cell_type": "code",
   "execution_count": 2,
   "metadata": {},
   "outputs": [],
   "source": [
    "from MyCapytain.resolvers.dts.api_v1 import HttpDtsResolver\n",
    "\n",
    "resolver = HttpDtsResolver(\"http://texts.alpheios.net/api/dts\")"
   ]
  },
  {
   "cell_type": "markdown",
   "metadata": {},
   "source": [
    "## Require metadata : let's visit the catalog\n",
    "\n",
    "The following code is gonna find each text that is readable by Alpheios"
   ]
  },
  {
   "cell_type": "code",
   "execution_count": 3,
   "metadata": {},
   "outputs": [
    {
     "name": "stdout",
     "output_type": "stream",
     "text": [
      "We found 15 collections that can be parsed\n"
     ]
    }
   ],
   "source": [
    "# We get the root collection\n",
    "root = resolver.getMetadata()\n",
    "# Then we retrieve dynamically all the readableDescendants : it browse automatically the API until\n",
    "# it does not have seen any missing texts: be careful with this one on huge repositories\n",
    "readable_collections = root.readableDescendants\n",
    "print(\"We found %s collections that can be parsed\" % len(readable_collections))"
   ]
  },
  {
   "cell_type": "markdown",
   "metadata": {},
   "source": [
    "### Printing the full tree"
   ]
  },
  {
   "cell_type": "code",
   "execution_count": 4,
   "metadata": {},
   "outputs": [
    {
     "name": "stdout",
     "output_type": "stream",
     "text": [
      "default\n",
      "-- urn:alpheios:latinLit\n",
      "---- urn:cts:latinLit:phi0472\n",
      "------ urn:cts:latinLit:phi0472.phi001\n",
      "-------- urn:cts:latinLit:phi0472.phi001.alpheios-text-lat1\n",
      "---- urn:cts:latinLit:phi0620\n",
      "------ urn:cts:latinLit:phi0620.phi001\n",
      "-------- urn:cts:latinLit:phi0620.phi001.alpheios-text-lat1\n",
      "---- urn:cts:latinLit:phi0959\n",
      "------ urn:cts:latinLit:phi0959.phi006\n",
      "-------- urn:cts:latinLit:phi0959.phi006.alpheios-text-lat1\n",
      "-- urn:alpheios:greekLit\n",
      "---- urn:cts:greekLit:tlg0085\n",
      "------ urn:cts:greekLit:tlg0085.tlg004\n",
      "-------- urn:cts:greekLit:tlg0085.tlg004.alpheios-text-grc1\n",
      "------ urn:cts:greekLit:tlg0085.tlg005\n",
      "-------- urn:cts:greekLit:tlg0085.tlg005.alpheios-text-grc1\n",
      "------ urn:cts:greekLit:tlg0085.tlg006\n",
      "-------- urn:cts:greekLit:tlg0085.tlg006.alpheios-text-grc1\n",
      "------ urn:cts:greekLit:tlg0085.tlg003\n",
      "-------- urn:cts:greekLit:tlg0085.tlg003.alpheios-text-grc1\n",
      "------ urn:cts:greekLit:tlg0085.tlg001\n",
      "-------- urn:cts:greekLit:tlg0085.tlg001.alpheios-text-grc1\n",
      "------ urn:cts:greekLit:tlg0085.tlg002\n",
      "-------- urn:cts:greekLit:tlg0085.tlg002.alpheios-text-grc1\n",
      "---- urn:cts:greekLit:tlg0012\n",
      "------ urn:cts:greekLit:tlg0012.tlg002\n",
      "-------- urn:cts:greekLit:tlg0012.tlg002.alpheios-text-grc1\n",
      "------ urn:cts:greekLit:tlg0012.tlg001\n",
      "-------- urn:cts:greekLit:tlg0012.tlg001.alpheios-text-grc1\n",
      "---- urn:cts:greekLit:tlg0020\n",
      "------ urn:cts:greekLit:tlg0020.tlg003\n",
      "-------- urn:cts:greekLit:tlg0020.tlg003.alpheios-text-grc1\n",
      "------ urn:cts:greekLit:tlg0020.tlg002\n",
      "-------- urn:cts:greekLit:tlg0020.tlg002.alpheios-text-grc1\n",
      "------ urn:cts:greekLit:tlg0020.tlg001\n",
      "-------- urn:cts:greekLit:tlg0020.tlg001.alpheios-text-grc1\n",
      "---- urn:cts:greekLit:tlg0011\n",
      "------ urn:cts:greekLit:tlg0011.tlg003\n",
      "-------- urn:cts:greekLit:tlg0011.tlg003.alpheios-text-grc1\n"
     ]
    }
   ],
   "source": [
    "# Note that we could also see and make a tree of the catalog.\n",
    "# If you are not familiar with recursivity, the next lines might be a bit complicated\n",
    "def show_tree(collection, char_number=1):\n",
    "    for subcollection_id, subcollection in collection.children.items():\n",
    "        print(char_number*\"--\" + \" \" + subcollection.id)\n",
    "        show_tree(subcollection, char_number+1)\n",
    "\n",
    "print(root.id)\n",
    "show_tree(root)"
   ]
  },
  {
   "cell_type": "markdown",
   "metadata": {},
   "source": [
    "### Printing details about a specific one"
   ]
  },
  {
   "cell_type": "code",
   "execution_count": 5,
   "metadata": {},
   "outputs": [
    {
     "name": "stdout",
     "output_type": "stream",
     "text": [
      "Treaing `Metamorphoses` with id urn:cts:latinLit:phi0959.phi006.alpheios-text-lat1\n"
     ]
    }
   ],
   "source": [
    "# Let's get a random one !\n",
    "from random import randint\n",
    "# The index needs to be between 0 and the number of collections\n",
    "rand_index = randint(0, len(readable_collections))\n",
    "collection = readable_collections[rand_index]\n",
    "\n",
    "# Now let's print information ?\n",
    "label = collection.get_label()\n",
    "\n",
    "text_id = collection.id\n",
    "print(\"Treaing `\"+label+\"` with id \" + text_id)"
   ]
  },
  {
   "cell_type": "markdown",
   "metadata": {},
   "source": [
    "#### What about more detailed informations ? Like the citation scheme ?"
   ]
  },
  {
   "cell_type": "code",
   "execution_count": 6,
   "metadata": {},
   "outputs": [
    {
     "name": "stdout",
     "output_type": "stream",
     "text": [
      "Maximum citation depth :  2\n",
      "Citation System\n",
      "-- book\n",
      "---- line\n"
     ]
    }
   ],
   "source": [
    "def recursive_printing_citation_scheme(citation, char_number=1):\n",
    "    for subcitation in citation.children:\n",
    "        print(char_number*\"--\" + \" \" + subcitation.name)\n",
    "        recursive_printing_citation_scheme(subcitation, char_number+1)\n",
    "\n",
    "print(\"Maximum citation depth : \", collection.citation.depth)\n",
    "print(\"Citation System\")\n",
    "recursive_printing_citation_scheme(collection.citation)"
   ]
  },
  {
   "cell_type": "markdown",
   "metadata": {},
   "source": [
    "### Let's get some references !"
   ]
  },
  {
   "cell_type": "code",
   "execution_count": 7,
   "metadata": {},
   "outputs": [
    {
     "name": "stdout",
     "output_type": "stream",
     "text": [
      "<DtsReferenceSet (<DtsReference <1> [book]>, <DtsReference <2> [book]>, <DtsReference <3> [book]>, <DtsReference <4> [book]>, <DtsReference <5> [book]>, <DtsReference <6> [book]>, <DtsReference <7> [book]>, <DtsReference <8> [book]>, <DtsReference <9> [book]>, <DtsReference <10> [book]>, <DtsReference <11> [book]>, <DtsReference <12> [book]>, <DtsReference <13> [book]>, <DtsReference <14> [book]>, <DtsReference <15> [book]>) level:1, citation:<DtsCitation name(book)>>\n"
     ]
    }
   ],
   "source": [
    "reffs = resolver.getReffs(collection.id)\n",
    "print(reffs)\n",
    "# Nice !"
   ]
  },
  {
   "cell_type": "markdown",
   "metadata": {},
   "source": [
    "### Let's get some random passage !\n"
   ]
  },
  {
   "cell_type": "code",
   "execution_count": 8,
   "metadata": {},
   "outputs": [
    {
     "name": "stdout",
     "output_type": "stream",
     "text": [
      "urn:cts:latinLit:phi0959.phi006.alpheios-text-lat1 <DtsReference <3> [book]>\n",
      "<TEI xmlns=\"http://www.tei-c.org/ns/1.0\" xmlns:py=\"http://codespeak.net/lxml/objectify/pytype\" py:pytype=\"TREE\"><dts:fragment xmlns:dts=\"https://w3id.org/dts/api#\"><text><body n=\"urn:cts:latinLit:phi0959.phi006.alpheios-text-lat1\"><div type=\"edition\" xml:lang=\"lat\" n=\"urn:cts:latinLit:phi0959.phi006.alpheios-text-lat1\"><div type=\"textpart\" subtype=\"book\" n=\"3\"><milestone n=\"1\" unit=\"card\"/><milestone ed=\"Magnus\" n=\"Cadmus.\" unit=\"tale\"/><milestone ed=\"P\" unit=\"para\"/><l n=\"1\">Iamque deus posita fallacis imagine tauri</l><l n=\"2\">se confessus erat Dictaeaque rura tenebat,</l><l n=\"3\">cum pater ignarus Cadmo perquirere raptam</l><l n=\"4\">imperat et poenam, si non invenerit, addit</l><l n=\"5\">exilium, facto pius et sceleratus eodem.</l><milestone ed=\"P\" unit=\"para\"/><l n=\"6\">Orbe pererrato (quis enim deprendere possit</l><l n=\"7\">furta Iovis?) profugus patriamque iramque parentis</l><l n=\"8\">vitat Agenorides Phoebique oracula supplex</l><l n=\"9\">consulit et, quae sit tellus habitanda, requirit.</l><l n=\"10\">“Bos tibi” Phoebus ait “solis occurret in arvis,</l><l n=\"11\">nullum passa iugum curvique inmunis aratri.</l><l n=\"12\">Hac duce carpe vias et qua requieverit herba</l><l n=\"13\">moenia fac condas, Boeotiaque ma vocato.”</l><l n=\"14\">Vix bene Castalio Cadmus descenderat antro,</l><l n=\"15\">incustoditam lente videt ire iuvencam</l><l n=\"16\">nullum servitii signum cervice gerentem.</l><l n=\"17\">Subsequitur pressoque legit vestigia gressu,</l><l n=\"18\">auctoremque viae Phoebum taciturnus adorat.</l><milestone ed=\"P\" unit=\"para\"/><l n=\"19\">Iam vada Cephisi Panopesque evaserat arva:</l><l n=\"20\">bos stetit et tollens speciosam cornibus altis</l><l n=\"21\">ad caelum frontem mugitibus impulit auras,</l><l n=\"22\">atque ita, respiciens comites sua terga sequentes,</l><l n=\"23\">procubuit teneraque latus submisit in herba.</l><l n=\"24\">Cadmus agit grates peregrinaeque oscula terrae</l><l n=\"25\">figit et ignotos montes agrosque salutat.</l><l n=\"26\">Sacra Iovi facturus erat. Iubet ire ministros</l><l n=\"27\">et petere e vivis libandas fontibus undas.</l><milestone ed=\"P\" unit=\"para\"/><l n=\"28\">Silva vetus stabat, nulla violata securi,</l><l n=\"29\">et specus in medio, virgis ac vimine densus,</l><l n=\"30\">efficiens humilem lapidum compagibus arcum,</l><l n=\"31\">uberibus fecundus aquis, ubi conditus antro</l><l n=\"32\">Martius anguis erat, cristis praesignis et auro;</l><l n=\"33\">igne micant oculi, corpus tumet omne venenis,</l><l n=\"34\">tres vibrant linguae, triplici stant ordine dentes.</l><l n=\"35\">Quem postquam Tyria lucum de gente profecti</l><l n=\"36\">infausto tetigere gradu, demissaque in undas</l><l n=\"37\">urna dedit sonitum, longo caput extulit antro</l><l n=\"38\">caeruleus serpens horrendaque sibila misit.</l><l n=\"39\">Effluxere urnae manibus sanguisque reliquit</l><l n=\"40\">corpus, et attonitos subitus tremor occupat artus.</l><l n=\"41\">Ille volubilibus squamosos nexibus orbes</l><l n=\"42\">torquet et inmensos saltu sinuatur in arcus,</l><l n=\"43\">ac media plus parte leves erectus in auras</l><l n=\"44\">despicit omne nemus, tantoque est corpore, quanto</l><l n=\"45\">si totum spectes, geminas qui separat arctos.</l><l n=\"46\">Nec mora, Phoenicas, sive illi tela parabant,</l><l n=\"47\">sive fugam, sive ipse timor prohibebat utrumque,</l><l n=\"48\">occupat: hos morsu, longis complexibus illos,</l><l n=\"49\">hos necat adfiatu funesti tabe veneni.</l><milestone ed=\"P\" unit=\"para\"/><l n=\"50\">Fecerat exiguas iam sol altissimus umbras:</l><l n=\"51\">quae mora sit sociis, miratur Agenore natus,</l><l n=\"52\">vestigatque viros. Tegimen derepta leoni</l><l n=\"53\">pellis erat, telum splendenti lancea ferro</l><l n=\"54\">et iaculum, teloque animus praestantior omni.</l><milestone ed=\"P\" unit=\"para\"/><l n=\"55\">Ut nemus intravit letataque corpora vidit</l><l n=\"56\">victoremque supra spatiosi corporis hostem</l><l n=\"57\">tristia sanguinea lambentem vulnera lingua,</l><l n=\"58\">“aut ultor vestrae, fidissima corpora, mortis,</l><l n=\"59\">aut comes” inquit “ero.” Dixit, dextraque molarem</l><l n=\"60\">sustulit et magnum magno conamine misit.</l><l n=\"61\">Illius impulsu cum turribus ardua celsis</l><l n=\"62\">moenia mota forent: serpens sine vulnere mansit</l><l n=\"63\">loricaeque modo squamis defensus et atrae</l><l n=\"64\">duritia pellis validos cute reppulit ictus.</l><l n=\"65\">At non duritia iaculum quoque vicit eadem:</l><l n=\"66\">quod medio lentae spinae curvamine fixum</l><l n=\"67\">constitit et totum descendit in ilia ferrum.</l><l n=\"68\">Ille dolore ferox caput in sua terga retorsit</l><l n=\"69\">vulneraque adspexit fixumque hastile momordit</l><l n=\"70\">idque, ubi vi multa partem labefecit in omnem,</l><l n=\"71\">vix tergo eripuit; ferrum tamen ossibus haesit.</l><milestone ed=\"P\" unit=\"para\"/><l n=\"72\">Tum vero, postquam solitas accessit ad iras</l><l n=\"73\">causa recens, plenis tumuerunt guttura venis,</l><l n=\"74\">spumaque pestiferos circumfluit albida rictus,</l><l n=\"75\">terraque rasa sonat squamis, quique halitus exit</l><l n=\"76\">ore niger Stygio, vitiatas inficit auras.</l><l n=\"77\">Ipse modo inmensum spiris facientibus orbem</l><l n=\"78\">cingitur, interdum longa trabe rectior adstat</l><l n=\"79\">impete nunc vasto ceu concitus imbribus amnis</l><l n=\"80\">fertur et obstantes proturbat pectore silvas.</l><l n=\"81\">Cedit Agenorides paulum spolioque leonis</l><l n=\"82\">sustinet incursus instantiaque ora retardat</l><l n=\"83\">cuspide praetenta. Furit ille et inania duro</l><l n=\"84\">vulnera dat ferro figitque in acumine dentes.</l><l n=\"85\">Iamque venenifero sanguis manare palato</l><l n=\"86\">coeperat et virides adspergine tinxerat herbas:</l><l n=\"87\">sed leve vulnus erat, quia se retrahebat ab ictu</l><l n=\"88\">laesaque colla dabat retro plagamque sedere</l><l n=\"89\">cedendo arcebat nec longius ire sinebat,</l><l n=\"90\">donec Agenorides coniectum in guttura ferrum</l><l n=\"91\">usque sequens pressit, dum retro quercus eunti</l><l n=\"92\">obstitit, et fixa est pariter cum robore cervix.</l><l n=\"93\">Pondere serpentis curvata est arbor et ima</l><l n=\"94\">parte flagellari gemuit sua robora caudae.</l><milestone n=\"95\" unit=\"card\"/><milestone ed=\"P\" unit=\"para\"/><l n=\"95\">Dum spatium victor victi considerat hostis,</l><l n=\"96\">vox subito audita est; neque erat cognoscere promptum</l><l n=\"97\">unde, sed audita est:  “Quid, Agenore nate, peremptum</l><l n=\"98\">serpentem spectas? et tu spectabere serpens.”</l><milestone ed=\"P\" unit=\"para\"/><l n=\"99\">Ille diu pavidus pariter cum mente colorem</l><l n=\"100\">perdiderat, gelidoque comae terrore rigebant.</l><l n=\"101\">Ecce viri fautrix, superas delapsa per auras,</l><l n=\"102\">Pallas adest motaeque iubet supponere terrae</l><l n=\"103\">vipereos dentes, populi incrementa futuri.</l><l n=\"104\">Paret et, ut presso sulcum patefecit aratro,</l><l n=\"105\">spargit humi iussos, mortalia semina, dentes.</l><milestone ed=\"P\" unit=\"para\"/><l n=\"106\">Inde (fide maius) glaebae coepere moveri,</l><l n=\"107\">primaque de sulcis acies apparuit hastae,</l><l n=\"108\">tegmina mox capitum picto nutantia cono,</l><l n=\"109\">mox umeri pectusque onerataque bracchia telis</l><l n=\"110\">exsistunt, crescitque seges clipeata virorum.</l><l n=\"111\">Sic ubi tolluntur festis aulaea theatris,</l><l n=\"112\">surgere signa solent primumque ostendere vultus,</l><l n=\"113\">cetera paulatim, placidoque educta tenore</l><l n=\"114\">tota patent imoque pedes in margine ponunt.</l><l n=\"115\">Territus hoste novo Cadmus capere arma parabat:</l><l n=\"116\">“ne cape”, de populo, quem terra creaverat, unus</l><l n=\"117\">exclamat  “nec te civilibus insere bellis.”</l><l n=\"118\">Atque ita terrigenis rigido de fratribus unum</l><l n=\"119\">comminus ense ferit; iaculo cadit eminus ipse.</l><l n=\"120\">Hunc quoque qui leto dederat, non longius illo</l><l n=\"121\">vivit et exspirat modo quas acceperat auras;</l><l n=\"122\">exemploque pari furit omnis turba, suoque</l><l n=\"123\">Marte cadunt subiti per mutua vulnera fratres.</l><l n=\"124\">Iamque brevis vitae spatium sortita iuventus</l><l n=\"125\">sanguineam tepido plangebat pectore matrem,</l><l n=\"126\">quinque superstitibus, quorum fuit unus Echion.</l><l n=\"127\">Is sua iecit humo monitu Tritonidis arma</l><l n=\"128\">fraternaeque fidem pacis petiitque deditque.</l><milestone ed=\"P\" unit=\"para\"/><l n=\"129\">Hos operis comites habuit Sidonius hospes,</l><l n=\"130\">cum posuit iussam Phoebeis sortibus urbem.</l><milestone ed=\"More\" n=\"ACTAEON\" unit=\"tale\"/><milestone ed=\"P\" unit=\"para\"/><l n=\"131\">Iam stabant Thebae: poteras iam, Cadme, videri</l><l n=\"132\">exsilio felix. Soceri tibi Marsque Venusque</l><l n=\"133\">contigerant: huc adde genus de coniuge tanta,</l><l n=\"134\">tot natos natasque et pignera cara nepotes,</l><l n=\"135\">hos quoque iam iuvenes. Sed scilicet ultima semper</l><l n=\"136\">exspectanda dies homini est, dicique beatus</l><l n=\"137\">ante obitum nemo supremaque funera debet.</l><milestone n=\"138\" unit=\"card\"/><milestone ed=\"Magnus\" n=\"Actaeon.\" unit=\"tale\"/><milestone ed=\"P\" unit=\"para\"/><l n=\"138\">Prima nepos inter tot res tibi, Cadme, secundas</l><l n=\"139\">causa fuit luctus, alienaque cornua fronti</l><l n=\"140\">addita, vosque canes satiatae sanguine erili.</l><l n=\"141\">At bene si quaeras, fortunae crimen in illo,</l><l n=\"142\">non scelus invenies: quod enim scelus error habebat?</l><l n=\"143\"> Mons erat infectus variarum caede ferarum;</l><l n=\"144\">iamque dies medius rerum contraxerat umbras</l><l n=\"145\">et sol ex aequo meta distabat utraque,</l><l n=\"146\">cum iuvenis placido per devia lustra vagantes</l><l n=\"147\">participes operum compellat Hyantius ore:</l><l n=\"148\">“Lina madent, comites, ferrumque cruore ferarum,</l><l n=\"149\">fortunamque dies habuit satis. Altera lucem</l><l n=\"150\">cum croceis invecta rotis Aurora reducet,</l><l n=\"151\">propositum repetemus opus; nunc Phoebus utraque</l><l n=\"152\">distat idem terra finditque vaporibus arva.</l><l n=\"153\">Sistite opus praesens nodosaque tollite lina.”</l><l n=\"154\">Iussa viri faciunt intermittuntque laborem.</l><milestone ed=\"P\" unit=\"para\"/><l n=\"155\">Vallis erat piceis et acuta densa cupressu,</l><l n=\"156\">nomine Gargaphie, succinctae sacra Dianae.</l><l n=\"157\">Cuius in extremo est antrum nemorale recessu,</l><l n=\"158\">arte laboratum nulla: simulaverat artem</l><l n=\"159\">ingenio natura suo; nam pumice vivo</l><l n=\"160\">et levibus tofis nativum duxerat arcum.</l><l n=\"161\">Fons sonat a dextra, tenui perlucidus unda,</l><l n=\"162\">margine gramineo patulos succinctus hiatus.</l><milestone ed=\"P\" unit=\"para\"/><l n=\"163\">Hic dea silvarum venatu fessa solebat</l><l n=\"164\">virgineos artus liquido perfundere rore.</l><l n=\"165\">Quo postquam subiit, nympharum tradidit uni</l><l n=\"166\">armigerae iaculum pharetramque arcusque retentos;</l><l n=\"167\">altera depositae subiecit bracchia pallae,</l><l n=\"168\">vincla duae pedibus demunt; nam doctior illis</l><l n=\"169\">Ismenis Crocale sparsos per colla capillos</l><l n=\"170\">conligit in nodum, quamvis erat ipsa solutis.</l><l n=\"171\">Excipiunt laticem Nepheleque Hyaleque Rhanisque</l><l n=\"172\">et Psecas et Phiale funduntque capacibus urnis.</l><milestone ed=\"P\" unit=\"para\"/><l n=\"173\">Dumque ibi perluitur solita Titania lympha,</l><l n=\"174\">ecce nepos Cadmi dilata parte laborum</l><l n=\"175\">per nemus ignotum non certis passibus errans</l><l n=\"176\">pervenit in lucum: sic illum fata ferebant.</l><l n=\"177\">Qui simul intravit rorantia fontibus antra,</l><l n=\"178\">sicut erant, viso nudae sua pectora nymphae</l><l n=\"179\">percussere viro, subitisque ululatibus omne</l><l n=\"180\">implevere nemus circumfusaeque Dianam</l><l n=\"181\">corporibus texere suis; tamen altior illis</l><l n=\"182\">ipsa dea est colloque tenus supereminet omnes.</l><l n=\"183\">Qui color infectis adversi solis ab ictu</l><l n=\"184\">nubibus esse solet aut purpureae aurorae,</l><l n=\"185\">is fuit in vultu visae sine veste Dianae.</l><milestone ed=\"P\" unit=\"para\"/><l n=\"186\">Quae quamquam comitum turba est stipata suarum,</l><l n=\"187\">in latus obliquum tamen adstitit oraque retro</l><l n=\"188\">flexit, et ut vellet promptas habuisse sagittas,</l><l n=\"189\">quas habuit sic hausit aquas vultumque virilem</l><l n=\"190\">perfudit, spargensque comas ultricibus undis</l><l n=\"191\">addidit haec cladis praenuntia verba futurae:</l><l n=\"192\">“Nunc tibi me posito visam velamine narres,</l><l n=\"193\">si poteris narrare, licet.”  Nec plura minata</l><l n=\"194\">dat sparso capiti vivacis cornua cervi,</l><l n=\"195\">dat spatium collo summasque cacuminat aures,</l><l n=\"196\">cum pedibusque manus, cum longis bracchia mutat</l><l n=\"197\">cruribus et velat maculoso vellere corpus.</l><l n=\"198\">Additus et pavor est. Fugit Autonoeius heros</l><l n=\"199\">et se tam celerem cursu miratur in ipso.</l><l n=\"200\">Ut vero vultus et cornua vidit in unda,</l><l n=\"201\">“me miserum!” dicturus erat: vox nulla secuta est.</l><l n=\"202\">Ingemuit: vox illa fuit, lacrimaeque per ora</l><l n=\"203\">non sua fluxerunt; mens tantum pristina mansit.</l><l n=\"204\">Quid faciat? repetatne domum et regalia tecta</l><l n=\"205\">an lateat silvis? pudor hoc, timor impedit illud.</l><milestone ed=\"P\" unit=\"para\"/><l n=\"206\">Dum dubitat, videre canes. Primumque Melampus</l><l n=\"207\">Ichnobatesque sagax latratu signa dedere,</l><l n=\"208\">Gnosius Ichnobates, Spartana gente Melampus.</l><l n=\"209\">Inde ruunt alii rapida velocius aura,</l><l n=\"210\">Pamphagus et Dorceus et Oribasus, Arcades omnes,</l><l n=\"211\">Nebrophonusque valens et trux cum Laelape Theron</l><l n=\"212\">et pedibus Pterelas et naribus utilis Agre,</l><l n=\"213\">Hylaeusque ferox, nuper percussus ab apro,</l><l n=\"214\">deque lupo concepta Nape, pecudesque secuta</l><l n=\"215\">Poemenis et natis comitata Harpyia duobus,</l><l n=\"216\">et substricta gerens Sicyonius ilia Ladon,</l><l n=\"217\">et Dromas et Canache Sticteque et Tigris et Alce</l><l n=\"218\">et niveis Leucon et villis Asbolus atris</l><l n=\"219\">praevalidusque Lacon et cursu fortis Aello</l><l n=\"220\">et Thous et Cyprio velox cum fratre Lycisce,</l><l n=\"221\">et nigram medio frontem distinctus ab albo</l><l n=\"222\">Harpalos, et Melaneus hirsutaque corpore Lachne,</l><l n=\"223\">et patre Dictaeo, sed matre Laconide nati</l><l n=\"224\">Labros et Argiodus, et acutae vocis Hylactor,</l><l n=\"225\">quosque referre mora est. Ea turba cupidine praedae</l><l n=\"226\">per rupes scopulosque adituque carentia saxa,</l><l n=\"227\">quaque est difficilis quaque est via nulla, sequuntur.</l><milestone ed=\"P\" unit=\"para\"/><l n=\"228\">Ille fugit per quae fuerat loca saepe secutus,</l><l n=\"229\">heu famulos fugit ipse suos. Clamare libebat</l><l n=\"230\">“Actaeon ego sum, dominum cognoscite vestrum!”</l><l n=\"231\">Verba animo desunt: resonat latratibus aether.</l><l n=\"232\">Prima Melanchaetes in tergo vulnera fecit,</l><l n=\"233\">proxima Therodamas, Oresitrophus haesit in armo:</l><l n=\"234\">tardius exierant, sed per compendia montis</l><l n=\"235\">anticipata via est. Dominum retinentibus illis,</l><l n=\"236\">cetera turba coit confertque in corpore dentes.</l><l n=\"237\">Iam loca vulneribus desunt. Gemit ille sonumque,</l><l n=\"238\">etsi non hominis, quem non tamen edere possit</l><l n=\"239\">cervus habet, maestisque replet iuga nota querellis.</l><l n=\"240\">Et genibus pronis supplex similisque roganti</l><l n=\"241\">circumfert tacitos tamquam sua bracchia vultus.</l><milestone ed=\"P\" unit=\"para\"/><l n=\"242\">At comites rapidum solitis hortatibus agmen</l><l n=\"243\">ignari instigant oculisque Actaeona quaerunt</l><l n=\"244\">et velut absentem certatim Actaeona clamant</l><l n=\"245\">(ad nomen caput ille refert), et abesse queruntur</l><l n=\"246\">nec capere oblatae segnem spectacula praedae.</l><l n=\"247\">Vellet abesse quidem, sed adest; velletque videre,</l><l n=\"248\">non etiam sentire canum fera facta suorum.</l><l n=\"249\">Undique circumstant mersisque in corpore rostris</l><l n=\"250\">dilacerant falsi dominum sub imagine cervi.</l><note resp=\"editor\"><l n=\"251\"><del>nec nisi finita per plurima vulnera vita</del></l><l n=\"252\"><del>ira pharetratae fertur satiata Dianae.</del></l></note><milestone n=\"253\" unit=\"card\"/><milestone ed=\"Magnus\" n=\"Semele.\" unit=\"tale\"/><milestone ed=\"P\" unit=\"para\"/><l n=\"253\">Rumor in ambiguo est: aliis violentior aequo</l><l n=\"254\">visa dea est, alii laudant dignamque severa</l><l n=\"255\">virginitate vocant; pars invenit utraque causas.</l><l n=\"256\">Sola Iovis coniunx non tam culpetne probetne</l><l n=\"257\">eloquitur, quam clade domus ab Agenore ductae</l><l n=\"258\">gaudet et a Tyria conlectum paelice transfert</l><l n=\"259\">in generis socios odium. Subit ecce priori</l><l n=\"260\">causa recens, gravidamque dolet de semine magni</l><l n=\"261\">esse Iovis Semelen. Dum linguam ad iurgia solvit,</l><l n=\"262\">“profeci quid enim totiens per iurgia?” dixit:</l><l n=\"263\">“ipsa petenda mihi est, ipsam, si maxima Iuno</l><l n=\"264\">rite vocor, perdam, si me gemmantia dextra</l><l n=\"265\">sceptra tenere decet, si sum regina Iovisque</l><l n=\"266\">et soror et coniunx, certe soror. At, puto, furto est</l><l n=\"267\">contenta, et thalami brevis est iniuria nostri:</l><l n=\"268\">concipit, id deerat! manifestaque crimina pleno</l><l n=\"269\">fert utero, et mater, quod vix mihi contigit uno</l><l n=\"270\">de Iove vult fieri: tanta est fiducia formae.</l><l n=\"271\">Fallat eam faxo; nec sum Saturnia, si non</l><l n=\"272\">ab Iove mersa suo Stygias penetrabit in undas.”</l><milestone ed=\"P\" unit=\"para\"/><l n=\"273\">Surgit ab his solio fulvaque recondita nube</l><l n=\"274\">limen adit Semeles. Nec nubes ante removit,</l><l n=\"275\">quam simulavit anum posuitque ad tempora canos</l><l n=\"276\">sulcavitque cutem rugis et curva trementi</l><l n=\"277\">membra tulit passu; vocem quoque fecit anilem,</l><l n=\"278\">ipsaque erat Beroe, Semeles Epidauria nutrix.</l><l n=\"279\">Ergo ubi captato sermone diuque loquendo</l><l n=\"280\">ad nomen venere Iovis, suspirat et “opto,</l><l n=\"281\">Iuppiter ut sit” ait:  “metuo tamen omnia: multi</l><l n=\"282\">nomine divorum thalamos iniere pudicos.</l><l n=\"283\">Nec tamen esse Iovem satis est: det pignus amoris,</l><l n=\"284\">si modo verus is est, quantusque et qualis ab alta</l><l n=\"285\">Iunone excipitur, tantus talisque, rogato,</l><l n=\"286\">det tibi complexus suaque ante insignia sumat.”</l><milestone ed=\"P\" unit=\"para\"/><l n=\"287\">Talibus ignaram Iuno Cadmeida dictis</l><l n=\"288\">formarat. Rogat illa Iovem sine nomine munus.</l><l n=\"289\">Cui deus “elige” ait: “nullam patiere repulsam.</l><l n=\"290\">Quoque magis credas, Stygii quoque conscia sunto</l><l n=\"291\">numina torrentis: timor et deus ille deorum est“.</l><l n=\"292\">Laeta malo nimiumque potens perituraque amantis</l><l n=\"293\">obsequio Semele “qualem Saturnia” dixit</l><l n=\"294\">“te solet amplecti, Veneris cum foedus initis,</l><l n=\"295\">da mihi te talem.”  Voluit deus ora loquentis</l><l n=\"296\">opprimere: exierat iam vox properata sub auras.</l><l n=\"297\">Ingemuit; neque enim non haec optasse, neque ille</l><l n=\"298\">non iurasse potest. Ergo maestissimus altum</l><l n=\"299\">aethera conscendit vultuque sequentia traxit</l><l n=\"300\">nubila, quis nimbos inmixtaque fulgura ventis</l><l n=\"301\">addidit et tonitrus et inevitabile fulmen.</l><l n=\"302\">Qua tamen usque potest, vires sibi demere temptat;</l><l n=\"303\">nec, quo centimanum deiecerat igne Typhoea,</l><l n=\"304\">nunc armatur eo: nimium feritatis in illo est.</l><l n=\"305\">Est aliud levius fulmen, cui dextra Cyclopum</l><l n=\"306\">saevitiae flammaeque minus, minus addidit irae;</l><l n=\"307\">tela secunda vocant superi. Capit illa, domumque</l><l n=\"308\">intrat Agenoream. Corpus mortale tumultus</l><l n=\"309\">non tulit aetherios donisque iugalibus arsit.</l><l n=\"310\">Imperfectus adhuc infans genetricis ab alvo</l><l n=\"311\">eripitur, patrioque tener (si credere dignum est)</l><l n=\"312\">insuitur femori maternaque tempora complet.</l><milestone ed=\"P\" unit=\"para\"/><l n=\"313\">Furtim illum primis Ino matertera cuuis</l><l n=\"314\">educat: inde datum nymphae Nyseides antris</l><l n=\"315\">occuluere suis lactisque alimenta dedere.</l><milestone n=\"316\" unit=\"card\"/><milestone ed=\"Magnus\" n=\"Tiresias.\" unit=\"tale\"/><milestone ed=\"P\" unit=\"para\"/><l n=\"316\">Dumque ea per terras fatali lege geruntur</l><l n=\"317\">tutaque bis geniti sunt incunabula Bacchi,</l><l n=\"318\">forte Iovem memorant, diffusum nectare, curas</l><l n=\"319\">seposuisse graves vacuumque agitasse remissos</l><l n=\"320\">cum Iunone iocos et “maior vestra profecto est,</l><l n=\"321\">quam quae contingit maribus” dixisse “voluptas.”</l><milestone ed=\"P\" unit=\"para\"/><l n=\"322\">Illa negat. Placuit quae sit sententia docti</l><l n=\"323\">quaerere Tiresiae: venus huic erat utraque nota.</l><l n=\"324\">Nam duo magnorum viridi coeuntia silva</l><l n=\"325\">corpora serpentum baculi violaverat ictu;</l><l n=\"326\">deque viro factus (mirabile) femina septem</l><l n=\"327\">egerat autumnos. Octavo rursus eosdem</l><l n=\"328\">vidit, et “est vestrae si tanta potentia plagae”</l><l n=\"329\">dixit “ut auctoris sortem in contraria mutet,</l><l n=\"330\">nunc quoque vos feriam.”  Percussis anguibus isdem</l><l n=\"331\">forma prior rediit genetivaque venit imago.</l><milestone ed=\"P\" unit=\"para\"/><l n=\"332\">Arbiter hic igitur sumptus de lite iocosa</l><l n=\"333\">dicta Iovis firmat. Gravius Saturnia iusto</l><l n=\"334\">nec pro materia fertur doluisse, suique</l><l n=\"335\">iudicis aeterna damnavit lumina nocte.</l><l n=\"336\">At pater omnipotens (neque enim licet inrita cuiquam</l><l n=\"337\">facta dei fecisse deo) pro lumine adempto</l><l n=\"338\">scire futura dedit, poenamque levavit honore.</l><milestone n=\"339\" unit=\"card\"/><milestone ed=\"Magnus\" n=\"Narcissus. Echo.\" unit=\"tale\"/><milestone ed=\"P\" unit=\"para\"/><l n=\"339\">Ille per Aonias fama celeberrimus urbes</l><l n=\"340\">inreprehensa dabat populo responsa petenti.</l><l n=\"341\">Prima fide vocisque ratae temptamina sumpsit</l><l n=\"342\">caerula Liriope. Quam quondam flumine curvo</l><l n=\"343\">implicuit clausaeque suis Cephisus in undis</l><l n=\"344\">vim tulit. Enixa est utero pulcherrima pleno</l><l n=\"345\">infantem, nymphis iam tunc qui posset amari,</l><l n=\"346\">Narcissumque vocat. De quo consultus, an esset</l><l n=\"347\">tempora maturae visurus longa senectae,</l><l n=\"348\">fatidicus vates “si se non noverit” inquit.</l><l n=\"349\">Vana diu visa est vox auguris: exitus illam</l><l n=\"350\">resque probat letique genus novitasque furoris.</l><l n=\"351\">Namque ter ad quinos unum Cephisius annum</l><l n=\"352\">addiderat poteratque puer iuvenisque videri:</l><l n=\"353\">multi illum iuvenes, multae cupiere puellae.</l><l n=\"354\">Sed fuit in tenera tam dura superbia forma:</l><l n=\"355\">nulli illum iuvenes, nullae tetigere puellae.</l><l n=\"356\">Adspicit hunc trepidos agitantem in retia cervos</l><l n=\"357\">vocalis nymphe, quae nec reticere loquenti,</l><l n=\"358\">nec prior ipsa loqui didicit, resonabilis Echo.</l><milestone ed=\"P\" unit=\"para\"/><l n=\"359\">Corpus adhuc Echo, non vox erat; et tamen usum</l><l n=\"360\">garrula non alium, quam nunc habet, oris habebat,</l><l n=\"361\">reddere de multis ut verba novissima posset.</l><l n=\"362\">Fecerat hoc Iuno, quia, cum deprendere posset</l><l n=\"363\">cum Iove saepe suo nymphas in monte iacentes,</l><l n=\"364\">illa deam longo prudens sermone tenebat,</l><l n=\"365\">dum fugerent nymphae. Postquam Saturnia sensit</l><l n=\"366\">“huius” ait “linguae, qua sum delusa, potestas</l><l n=\"367\">parva tibi dabitur vocisque brevissimus usus”:</l><l n=\"368\">reque minas firmat. Tamen haec in fine loquendi</l><l n=\"369\">ingeminat voces auditaque verba reportat.</l><milestone ed=\"P\" unit=\"para\"/><l n=\"370\">Ergo ubi Narcissum per devia rura vagantem</l><l n=\"371\">vidit et incaluit, sequitur vestigia furtim,</l><l n=\"372\">quoque magis sequitur, flamma propiore calescit,</l><l n=\"373\">non aliter, quam cum summis circumlita taedis</l><l n=\"374\">admotas rapiunt vivacia sulphura flammas.</l><l n=\"375\">O quotiens voluit blandis accedere dictis</l><l n=\"376\">et molles adhibere preces: natura repugnat</l><l n=\"377\">nec sinit incipiat. Sed, quod sinit, illa parata est</l><l n=\"378\">exspectare sonos, ad quos sua verba remittat.</l><l n=\"379\">Forte puer comitum seductus ab agmine fido,</l><l n=\"380\">dixerat “ecquis adest?” et  “adest!” responderat Echo.</l><l n=\"381\">Hic stupet, utque aciem partes dimittit in omnes,</l><l n=\"382\">voce “veni!” magna clamat: vocat illa vocantem.</l><l n=\"383\">Respicit et rursus nullo veniente “quid” inquit</l><l n=\"384\">“me fugis?” et totidem, quot dixit, verba recepit.</l><l n=\"385\">Perstat et, alternae deceptus imagine vocis,</l><l n=\"386\">“huc coeamus!” ait: nullique libentius umquam</l><l n=\"387\">responsura sono “coeamus” rettulit Echo,</l><l n=\"388\">et verbis favet ipsa suis egressaque silva</l><l n=\"389\">ibat, ut iniceret sperato bracchia collo.</l><l n=\"390\">Ille fugit fugiensque “manus complexibus aufer:</l><l n=\"391\">ante” ait “emoriar, quam sit tibi copia nostri.”</l><l n=\"392\">Rettulit illa nihil nisi “sit tibi copia nostri.”</l><l n=\"393\">Spreta latet silvis pudibundaque frondibus ora</l><l n=\"394\">protegit et solis ex illo vivit in antris.</l><l n=\"395\">Sed tamen haeret amor crescitque dolore repulsae.</l><l n=\"396\">Extenuant vigiles corpus miserabile curae,</l><l n=\"397\">adducitque cutem macies et in aera sucus</l><l n=\"398\">corporis omnis abit. Vox tantum atque ossa supersunt:</l><l n=\"399\">vox manet; ossa ferunt lapidis traxisse figuram.</l><note resp=\"editor\"><l n=\"400\"><del>inde latet silvis nulloque in monte videtur;</del></l><l n=\"401\"><del>omnibus auditur: sonus est, qui vivit in illa.</del></l></note><milestone ed=\"P\" unit=\"para\"/><l n=\"402\">Sic hanc, sic alias undis aut montibus ortas</l><l n=\"403\">luserat hic nymphas, sic coetus ante viriles.</l><l n=\"404\">Inde manus aliquis despectus ad aethera tollens</l><l n=\"405\">“sic amet ipse licet sic non potiatur amato!”</l><l n=\"406\">dixerat. Adsensit precibus Rhamnusia iustis.</l><milestone ed=\"More\" n=\"NARCISSUS\" unit=\"tale\"/><milestone ed=\"P\" unit=\"para\"/><l n=\"407\">Fons erat inlimis, nitidis argenteus undis,</l><l n=\"408\">quem neque pastores neque pastae monte capellae</l><l n=\"409\">contigerant aliudve pecus, quem nulla volucris</l><l n=\"410\">nec fera turbarat nec lapsus ab arbore ramus.</l><l n=\"411\">Gramen erat circa, quod proximus umor alebat,</l><l n=\"412\">silvaque sole locum passura tepescere nullo.</l><l n=\"413\">Hic puer, et studio venandi lassus et aestu,</l><l n=\"414\">procubuit faciemque loci fontemque secutus.</l><note resp=\"editor\"><l n=\"415\"><del>dumque sitim sedare cupit, sitis altera crevit.</del></l></note><l n=\"416\">Dumque bibit, visae correptus imagine formae</l><note resp=\"editor\"><l n=\"417\"><del>spem sine corpore amat: corpus putat esse, quod unda est</del></l></note><l n=\"418\">adstupet ipse sibi, vultuque inmotus eodem</l><l n=\"419\">haeret, ut e Pario formatum marmore signum.</l><l n=\"420\">Spectat humi positus geminum, sua lumina, sidus</l><l n=\"421\">et dignos Baccho, dignos et Apolline crines</l><l n=\"422\">impubesque genas et eburnea colla decusque</l><l n=\"423\">oris et in niveo mixtum candore ruborem,</l><l n=\"424\">cunctaque miratur, quibus est mirabilis ipse.</l><l n=\"425\">Se cupit imprudens et qui probat, ipse probatur,</l><l n=\"426\">dumque petit, petitur, pariterque accendit et ardet.</l><l n=\"427\">Inrita fallaci quotiens dedit oscula fonti!</l><l n=\"428\">In mediis quotiens visum captantia collum</l><l n=\"429\">bracchia mersit aquis, nec se deprendit in illis!</l><l n=\"430\">Quid videat, nescit: sed quod videt, uritur illo,</l><l n=\"431\">atque oculos idem, qui decipit, incitat error.</l><l n=\"432\">Credule, quid frusta simulacra fugacia captas?</l><l n=\"433\">quod petis, est nusquam; quod amas, avertere, perdes.</l><l n=\"434\">Ista repercussae, quam cernis, imaginis umbra est:</l><l n=\"435\">nil habet ista sui; tecum venitque manetque,</l><l n=\"436\">tecum discedet, si tu discedere possis.</l><milestone n=\"437\" unit=\"card\"/><milestone ed=\"P\" unit=\"para\"/><l n=\"437\">Non illum Cereris, non illum cura quietis</l><l n=\"438\">abstrahere inde potest, sed opaca fusus in herba</l><l n=\"439\">spectat inexpleto mendacem lumine formam,</l><l n=\"440\">perque oculos perit ipse suos; paulumque levatus</l><l n=\"441\">ad circumstantes tendens sua bracchia silvas</l><l n=\"442\">“ecquis, io silvae, crudelius”  inquit “amavit?</l><l n=\"443\">Scitis enim, et multis latebra opportuna fuistis.</l><l n=\"444\">Ecquem, cum vestrae tot agantur saecula vitae,</l><l n=\"445\">qui sic tabuerit, longo meministis in aevo?</l><l n=\"446\">Et placet et video; sed quod videoque placetque,</l><l n=\"447\">non tamen invenio: tantus tenet error amantem.</l><l n=\"448\">Quoque magis doleam, nec nos mare separat ingens,</l><l n=\"449\">nec via nec montes nec clausis moenia portis:</l><l n=\"450\">exigua prohibemur aqua. Cupit ipse teneri:</l><l n=\"451\">nam quotiens liquidis porreximus oscula lymphis,</l><l n=\"452\">hic totiens ad me resupino nititur ore.</l><l n=\"453\">Posse putes tangi: minimum est, quod amantibus obstat.</l><l n=\"454\">Quisquis es, huc exi! quid me, puer unice, fallis,</l><l n=\"455\">quove petitus abis? certe nec forma nec aetas</l><l n=\"456\">est mea quam fugias, et amarunt me quoque nymphae.</l><l n=\"457\">Spem mihi nescio quam vultu promittis amico,</l><l n=\"458\">cumque ego porrexi tibi bracchia, porrigis ultro:</l><l n=\"459\">cum risi, adrides; lacrimas quoque saepe notavi</l><l n=\"460\">me lacrimante tuas, nutu quoque signa remittis,</l><l n=\"461\">et quantum motu formosi suspicor oris,</l><l n=\"462\">verba refers aures non pervenientia nostras.</l><l n=\"463\">Iste ego sum: sensi, nec me mea fallit imago.</l><l n=\"464\">Uror amore mei, flammas moveoque feroque.</l><l n=\"465\">Quid faciam? roger, anne rogem? quid deinde rogabo?</l><l n=\"466\">quod cupio mecum est: inopem me copia fecit.</l><l n=\"467\">O utinam a nostro secedere corpore possem!</l><l n=\"468\">Votum in amante novum: vellem quod amamus abesset! —</l><l n=\"469\">Iamque dolor vires adimit, nec tempora vitae</l><l n=\"470\">longa meae superant, primoque exstinguor in aevo.</l><l n=\"471\">Nec mihi mors gravis est posituro morte dolores:</l><l n=\"472\">hic, qui diligitur, vellem diuturnior esset.</l><l n=\"473\">Nunc duo concordes anima moriemur in una.”</l><milestone ed=\"P\" unit=\"para\"/><l n=\"474\">Dixit et ad faciem rediit male sanus eandem</l><l n=\"475\">et lacrimis turbavit aquas, obscuraque moto</l><l n=\"476\">reddita forma lacu est. Quam cum vidisset abire,</l><l n=\"477\">“quo refugis? remane, nec me, crudelis, amantem</l><l n=\"478\">desere!” clamavit:  “liceat, quod tangere non est,</l><l n=\"479\">adspicere et misero praebere alimenta furori.”</l><l n=\"480\">Dumque dolet, summa vestem deduxit ab ora</l><l n=\"481\">nudaque marmoreis percussit pectora palmis.</l><l n=\"482\">Pectora traxerunt tenuem percussa ruborem,</l><l n=\"483\">non aliter quam poma solent, quae candida parte,</l><l n=\"484\">parte rubent, aut ut variis solet uva racemis</l><l n=\"485\">ducere purpureum nondum matura colorem.</l><l n=\"486\">Quae simul adspexit liquefacta rursus in unda,</l><l n=\"487\">non tulit ulterius, sed ut intabescere flavae</l><l n=\"488\">igne levi cerae matutinaeque pruinae</l><l n=\"489\">sole tepente solent, sic attenuatus amore</l><l n=\"490\">liquitur et tecto paulatim carpitur igni.</l><l n=\"491\">Et neque iam color est mixto candore rubori,</l><l n=\"492\">nec vigor et vires et quae modo visa placebant,</l><l n=\"493\">nec corpus remanet, quondam quod amaverat Echo.</l><milestone ed=\"P\" unit=\"para\"/><l n=\"494\">Quae tamen ut vidit, quamvis irata memorque,</l><l n=\"495\">indoluit, quotiensque puer miserabilis “eheu”</l><l n=\"496\">dixerat, haec resonis iterabat vocibus “eheu”;</l><l n=\"497\">cumque suos manibus percusserat ille lacertos,</l><l n=\"498\">haec quoque reddebat sonitum plangoris eundem.</l><l n=\"499\">Ultima vox solitam fuit haec spectantis in undam,</l><l n=\"500\">“heu frustra dilecte puer!” totidemque remisit</l><l n=\"501\">verba locns, dictoque vale  “vale!” inquit et Echo.</l><l n=\"502\">Ille caput viridi fessum submisit in herba;</l><l n=\"503\">lumina mors clausit domini mirantia formam.</l><milestone ed=\"P\" unit=\"para\"/><l n=\"504\">Tunc quoque se, postquam est inferna sede receptus,</l><l n=\"505\">in Stygia spectabat aqua. Planxere sorores</l><l n=\"506\">naides et sectos fratri posuere capillos,</l><l n=\"507\">planxerunt dryades: plangentibus adsonat Echo.</l><l n=\"508\">Iamque rogum quassasque faces feretrumque parabant:</l><l n=\"509\">nusquam corpus erat; croceum pro corpore florem</l><l n=\"510\">inveniunt, foliis medium cingentibus albis.</l><milestone n=\"511\" unit=\"card\"/><milestone ed=\"Magnus\" n=\"Pentheus.\" unit=\"tale\"/><milestone ed=\"P\" unit=\"para\"/><l n=\"511\">Cognita res meritam vati per Achaidas urbes</l><l n=\"512\">attulerat famam, nomenque erat auguris ingens.</l><l n=\"513\">Spernit Echionides tamen hunc ex omnibus unus,</l><l n=\"514\">contemptor superum, Pentheus, praesagaque ridet</l><l n=\"515\">verba senis tenebrasque et cladem lucis ademptae</l><l n=\"516\">obicit. Ille movens albentia tempora canis</l><l n=\"517\">“quam felix esses, si tu quoque luminis huius</l><l n=\"518\">orbus” ait  “fieres, ne Bacchica sacra videres!</l><l n=\"519\">Namque dies aderit, quam non procul auguror esse,</l><l n=\"520\">qua novus huc veniat, proles Semeleia, Liber;</l><l n=\"521\">quem nisi templorum fueris dignatus honore,</l><l n=\"522\">mille lacer spargere locis et sanguine silvas</l><l n=\"523\">foedabis matremque tuam matrisque sorores.</l><l n=\"524\">Evenient; neque enim dignabere numen honore,</l><l n=\"525\">meque sub his tenebris nimium vidisse quereris.”</l><l n=\"526\">Talia dicentem proturbat Echione natus.</l><milestone ed=\"P\" unit=\"para\"/><l n=\"527\">Dicta fides sequitur, responsaque vatis aguntur:</l><l n=\"528\">Liber adest, festisque fremunt ululatibus agri;</l><l n=\"529\">turba ruit, mixtaeque viris matresque nurusque</l><l n=\"530\">vulgusque proceresque ignota ad sacra feruntur.</l><milestone ed=\"P\" unit=\"para\"/><l n=\"531\">“Quis furor, anguigenae, proles Mavortia, vestras</l><l n=\"532\">attonuit mentes?” Pentheus ait: “aerane tantum</l><l n=\"533\">aere repulsa valent et adunco tibia cornu</l><l n=\"534\">et magicae fraudes, ut, quos non bellicus ensis,</l><l n=\"535\">non tuba terruerit, non strictis agmina telis,</l><l n=\"536\">femineae voces et mota insania vino</l><l n=\"537\">obscenique greges et inania tympana vincant?</l><l n=\"538\">Vosne, senes, mirer, qui longa per aequora vecti</l><l n=\"539\">hac Tyron, hac profugos posuistis sede penates,</l><l n=\"540\">nunc sinitis sine Marte capi? vosne, acrior aetas,</l><l n=\"541\">o iuvenes, propiorque meae, quos arma tenere,</l><l n=\"542\">non thyrsos, galeaque tegi, non fronde, decebat?</l><l n=\"543\">Este, precor, memores, qua sitis stirpe creati,</l><l n=\"544\">illiusque animos, qui multos perdidit unus,</l><l n=\"545\">sumite serpentis! Pro fontibus ille lacuque</l><l n=\"546\">interiit: at vos pro fama vincite vestra!</l><l n=\"547\">Ille dedit leto fortes, vos pellite molles</l><l n=\"548\">et patrium retinete decus. Si fata vetabant</l><l n=\"549\">stare diu Thebas, utinam tormenta virique</l><l n=\"550\">moenia diruerent, ferrumque ignisque sonarent!</l><l n=\"551\">Essemus miseri sine crimine, sorsque querenda,</l><l n=\"552\">non celanda foret, lacrimaeque pudore carerent.</l><l n=\"553\">At nunc a puero Thebae capientur inermi,</l><l n=\"554\">quem neque bella iuvant nec tela nec usus equorum,</l><l n=\"555\">sed madidi murra crines mollesque coronae</l><l n=\"556\">purpuraque et pictis intextum vestibus aurum.</l><l n=\"557\">Quem quidem ego actutum (modo vos absistite) cogam</l><l n=\"558\">adsumptumque patrem commentaque sacra fateri.</l><l n=\"559\">An satis Acrisio est animi contemnere vanum</l><l n=\"560\">numen et Argolicas venienti claudere portas,</l><l n=\"561\">Penthea terrebit cum totis advena Thebis?</l><l n=\"562\">Ite citi” (famulis hoc imperat),  “ite ducemque</l><l n=\"563\">attrahite huc vinctum! iussis mora segnis abesto.”</l><milestone ed=\"P\" unit=\"para\"/><l n=\"564\">Hunc avus, hunc Athamas, hunc cetera turba suorum</l><l n=\"565\">corripiunt dictis frustraque inhibere laborant.</l><l n=\"566\">Acrior admonitu est, inritaturque retenta</l><l n=\"567\">et crescit rabies, remoraminaque ipsa nocebant.</l><l n=\"568\">Sic ego torrentem, qua nil obstabat eunti,</l><l n=\"569\">lenius et modico strepitu decurrere vidi:</l><l n=\"570\">at quacumque trabes obstructaque saxa tenebant,</l><l n=\"571\">spumeus et fervens et ab obice saevior ibat.</l><l n=\"572\">Ecce cruentati redeunt et, Bacchus ubi esset,</l><l n=\"573\">quaerenti domino Bacchum vidisse negarunt;</l><l n=\"574\">“hunc”  dixere “tamen comitem famulumque sacrorum</l><l n=\"575\">cepimus”; et tradunt manibus post terga ligatis</l><l n=\"576\">sacra dei quondam Tyrrhena gente secutum.</l><milestone ed=\"P\" unit=\"para\"/><l n=\"577\">Adspicit hunc Pentheus oculis, quos ira tremendos</l><l n=\"578\">fecerat, et quamquam poenae vix tempora differt,</l><l n=\"579\">“o periture tuaque aliis documenta dature</l><l n=\"580\">morte” ait, “ede tuum nomen nomenque parentum</l><l n=\"581\">et patriam, morisque novi cur sacra frequentes.”</l><milestone n=\"582\" unit=\"card\"/><l n=\"582\">Ille metu vacuus “nomen mihi” dixit “Acoetes,</l><l n=\"583\">patria Maeonia est, humili de plebe parentes.</l><l n=\"584\">Non mihi quae duri colerent pater arva iuvenci,</l><l n=\"585\">lanigerosve greges, non ulla armenta reliquit;</l><l n=\"586\">pauper et ipse fuit, linoque solebat et hamis</l><l n=\"587\">decipere et calamo salientes ducere pisces.</l><l n=\"588\">Ars illi sua census erat. Cum traderet artem,</l><l n=\"589\">“accipe quas habeo, studii successor et heres,”</l><l n=\"590\">dixit “opes.” Moriensque mihi nil ille reliquit</l><l n=\"591\">praeter aquas: unum hoc possum appellare paternum.</l><l n=\"592\">Mox ego, ne scopulis haererem semper in isdem,</l><l n=\"593\">addidici regimen dextra moderante carinae</l><l n=\"594\">flectere et Oleniae sidus pluviale capellae</l><l n=\"595\">Taygetenque hyadasque oculis arctonque notavi</l><l n=\"596\">ventorumque domos et portus puppibus aptos.</l><l n=\"597\">Forte petens Delum Chiae telluris ad oras</l><l n=\"598\">applicor et dextris adducor litora remis,</l><l n=\"599\">doque leves saltus udaeque inmittor harenae.</l><l n=\"600\">Nox ubi consumpta est (aurora rubescere prima</l><l n=\"601\">coeperat), exsurgo, laticesque inferre recentes</l><l n=\"602\">admoneo monstroque viam, quae ducat ad undas.</l><l n=\"603\">Ipse, quid aura mihi tumulo promittat ab alto</l><l n=\"604\">prospicio comitesque voco repetoque carinam.</l><l n=\"605\">“Adsumus en!” inquit sociorum primus Opheltes,</l><l n=\"606\">utque putat, praedam deserto nactus in agro,</l><l n=\"607\">virginea puerum ducit per litora forma.</l><l n=\"608\">Ille mero somnoque gravis titubare videtur</l><l n=\"609\">vixque sequi. Specto cultum faciemque gradumque:</l><l n=\"610\">nil ibi quod credi posset mortale videbam.</l><l n=\"611\">Et sensi et dixi sociis: “Quod numen in isto</l><l n=\"612\">corpore sit, dubito; sed corpore numen in isto est.</l><l n=\"613\">Quisquis es, o faveas nostrisque laboribus adsis.</l><l n=\"614\">His quoque des veniam.” — “Pro nobis mitte precari”</l><l n=\"615\">Dictys ait, quo non alius conscendere summas</l><l n=\"616\">ocior antemnas prensoque rudente relabi.</l><l n=\"617\">Hoc Libys, hoc flavus, prorae tutela, Melanthus,</l><l n=\"618\">hoc probat Alcimedon, et qui requiemque modumque</l><l n=\"619\">voce dabat remis, animorum hortator Epopeus,</l><l n=\"620\">hoc omnes alii: praedae tam caeca cupido est.</l><l n=\"621\">“Non tamen hanc sacro violari pondere pinum</l><l n=\"622\">perpetiar” dixi: “pars hic mihi maxima iuris”;</l><l n=\"623\">inque aditu obsisto. Furit audacissimus omni</l><l n=\"624\">de numero Lycabas, qui Tusca pulsus ab urbe</l><l n=\"625\">exsilium dira poenam pro caede luebat.</l><l n=\"626\">Is mihi, dum resto, iuvenali guttura pugno</l><l n=\"627\">rupit et excussum misisset in aequora, si non</l><l n=\"628\">haesissem, quamvis amens, in fune retentus.</l><l n=\"629\">Impia turba probat factum. Tum denique Bacchus</l><l n=\"630\">(Bacchus enim fuerat), veluti clamore solutus</l><l n=\"631\">sit sopor aque mero redeant in pectora sensus,</l><l n=\"632\">“quid facitis? quis clamor?” ait “qua, dicite, nautae,</l><l n=\"633\">huc ope perveni? quo me deferre paratis?”</l><l n=\"634\">“Pone metum”, Proreus “et quos contingere portus</l><l n=\"635\">ede velis” dixit: “terra sistere petita.” —</l><l n=\"636\">“Naxon” ait Liber  “cursus advertite vestros.</l><l n=\"637\">Illa mihi domus est, vobis erit hospita tellus.”</l><l n=\"638\">Per mare fallaces perque omnia numina iurant</l><l n=\"639\">sic fore, meque iubent pictae dare vela carinae.</l><l n=\"640\">Dextera Naxos erat. Dextra mihi lintea danti</l><l n=\"641\">“quid facis, o demens? quis te furor—?” inquit Opheltes.</l><l n=\"642\">Pro se quisque timet: “laevam pete” maxima nutu</l><l n=\"643\">pars mihi significat, pars quid velit aure susurrat.</l><l n=\"644\">Obstipui “capiat” que “aliquis moderamina” dixi</l><l n=\"645\">meque ministerio scelerisque artisque removi.</l><l n=\"646\">Increpor a cunctis, totumque inmurmurat agmen.</l><l n=\"647\">E quibus Aethalion “te scilicet omnis in uno</l><l n=\"648\">nostra salus posita est” ait, et subit ipse meumque</l><l n=\"649\">explet opus, Naxoque petit diversa relicta.</l><l n=\"650\">Tum deus inludens, tamquam modo denique fraudem</l><l n=\"651\">senserit, e puppi pontum prospectat adunca</l><l n=\"652\">et flenti similis “non haec mihi litora, nautae,</l><l n=\"653\">promisistis” ait, “non haec mihi terra rogata est.</l><l n=\"654\">Quo merui poenam facto? quae gloria vestra est,</l><l n=\"655\">si puerum iuvenes, si multi fallitis unum?”</l><l n=\"656\">Iamdudum flebam: lacrimas manus impia nostras</l><l n=\"657\">ridet et impellit properantibus aequora remis.</l><l n=\"658\">Per tibi nunc ipsum (nec enim praesentior illo</l><l n=\"659\">est deus) adiuro, tam me tibi vera referre,</l><l n=\"660\">quam veri maiora fide: stetit aequore puppis</l><l n=\"661\">haud aliter quam si siccum navale teneret.</l><l n=\"662\">Illi admirantes remorum in verbere perstant</l><l n=\"663\">velaque deducunt geminaque ope currere temptant.</l><l n=\"664\">Impediunt hederae remos nexuque recurvo</l><l n=\"665\">serpunt et gravidis distinguunt vela corymbis.</l><l n=\"666\">Ipse racemiferis frontem circumdatus uvis</l><l n=\"667\">pampineis agitat velatam frondibus hastam.</l><l n=\"668\">Quem circa tigres simulacraque inania lyncum</l><l n=\"669\">pictarumque iacent fera corpora pantherarum.</l><l n=\"670\">Exsiluere viri, sive hoc insania fecit,</l><l n=\"671\">sive timor, primusque Medon nigrescere coepit</l><l n=\"672\">corpore et expresso spinae curvamine flecti.</l><l n=\"673\">Incipit huic Lycabas: “In quae miracula” dixit</l><l n=\"674\">“verteris?” et lati rictus et panda loquenti</l><l n=\"675\">naris erat, squamamque cutis durata trahebat.</l><l n=\"676\">At Libys obstantes dum vult obvertere remos,</l><l n=\"677\">in spatium resilire manus breve vidit et illas</l><l n=\"678\">iam non esse manus, iam pinnas posse vocari.</l><l n=\"679\">Alter, ad intortos cupiens dare bracchia funes,</l><l n=\"680\">bracchia non habuit, truncoque repandus in undas</l><l n=\"681\">corpore desiluit: falcata novissima cauda est,</l><l n=\"682\">qualia dimidiae sinuantur cornua lunae.</l><l n=\"683\">Undique dant saltus multaque adspergine rorant</l><l n=\"684\">emerguntque iterum redeuntque sub aequora rursus</l><l n=\"685\">inque chori ludunt speciem lascivaque iactant</l><l n=\"686\">corpora et acceptum patulis mare naribus efflant.</l><l n=\"687\">De modo viginti (tot enim ratis illa ferebat)</l><l n=\"688\">restabam solus. Pavidum gelidumque trementi</l><l n=\"689\">corpore vixque meum firmat deus “excute” dicens</l><l n=\"690\">“corde metum Diamque tene.”  Delatus in illam</l><l n=\"691\">accessi sacris Baccheaque sacra frequento.”</l><milestone n=\"692\" unit=\"card\"/><milestone ed=\"P\" unit=\"para\"/><l n=\"692\">“Praebuimus longis” Pentheus “ambagibus aures”</l><l n=\"693\">inquit “ut ira mora vires absumere posset.</l><l n=\"694\">Praecipitem famuli rapite hunc cruciataque diris</l><l n=\"695\">corpora tormentis Stygiae demittite nocti.”</l><milestone ed=\"P\" unit=\"para\"/><l n=\"696\">Protinus abstractus solidis Tyrrhenus Acoetes</l><l n=\"697\">clauditur in tectis; et dum crudelia iussae</l><l n=\"698\">instrumenta necis ferrumque ignesque parantur,</l><l n=\"699\">sponte sua patuisse fores lapsasque lacertis</l><l n=\"700\">sponte sua fama est nullo solvente catenas.</l><milestone ed=\"P\" unit=\"para\"/><l n=\"701\">Perstat Echionides. Nec iam iubet ire, sed ipse</l><l n=\"702\">vadit, ubi electus facienda ad sacra Cithaeron</l><l n=\"703\">cantibus et clara bacchantum voce sonabat.</l><l n=\"704\">Ut fremit acer equus, cum bellicus aere canoro</l><l n=\"705\">signa dedit tubicen, pugnaeque adsumit amorem,</l><l n=\"706\">Penthea sic ictus longis ululatibus aether</l><l n=\"707\">movit, et audito clamore recanduit ira.</l><milestone ed=\"P\" unit=\"para\"/><l n=\"708\">Monte fere medio est, cingentibus ultima silvis,</l><l n=\"709\">purus ab arboribus, spectabilis undique campus.</l><l n=\"710\">Hic oculis illum cernentem sacra profanis</l><l n=\"711\">prima videt, prima est insano concita cursu,</l><l n=\"712\">prima suum misso violavit Penthea thyrso</l><l n=\"713\">mater. “Io, geminae” clamavit “adeste sorores!</l><l n=\"714\">ille aper, in nostris errat qui maximus agris,</l><l n=\"715\">ille mihi feriendus aper.”  Ruit omnis in unum</l><l n=\"716\">turba furens; cunctae coeunt trepidumque sequuntur,</l><l n=\"717\">iam trepidum, iam verba minus violenta loquentem,</l><l n=\"718\">iam se damnantem, iam se peccasse fatentem.</l><l n=\"719\">Saucius ille tamen  “fer opem, matertera” dixit</l><l n=\"720\">“Autonoë! moveant animos Actaeonis umbrae.”</l><l n=\"721\">Illa, quis Actaeon, nescit dextramque precantis</l><l n=\"722\">abstulit: Inoo lacerata est altera raptu.</l><l n=\"723\">Non habet infelix quae matri bracchia tendat,</l><l n=\"724\">trunca sed ostendens deiectis vulnera membris</l><l n=\"725\">“adspice, mater!” ait. Visis ululavit Agaue</l><l n=\"726\">collaque iactavit movitque per aera crinem</l><l n=\"727\">avulsumque caput digitis complexa cruentis</l><l n=\"728\">clamat “io comites, opus haec victoria nostrum est!”</l><l n=\"729\">Non citius frondes autumni frigore tactas</l><l n=\"730\">iamque male haerentes alta rapit arbore ventus,</l><l n=\"731\">quam sunt membra viri manibus direpta nefandis.</l><milestone ed=\"P\" unit=\"para\"/><l n=\"732\">Talibus exemplis monitae nova sacra frequentant</l><l n=\"733\">turaque dant sanctasque colunt Ismenides aras.</l></div></div></body></text></dts:fragment></TEI>\n"
     ]
    }
   ],
   "source": [
    "# Let's get a random one !\n",
    "from random import randint\n",
    "# The index needs to be between 0 and the number of collections\n",
    "rand_index = randint(0, len(reffs)-1)\n",
    "reff = reffs[rand_index]\n",
    "\n",
    "passage = resolver.getTextualNode(collection.id, reff)\n",
    "print(passage.id, passage.reference)\n",
    "\n",
    "# Let's see the XML here\n",
    "# For that, we need to get the mimetype right :\n",
    "from MyCapytain.common.constants import Mimetypes\n",
    "print(passage.export(Mimetypes.XML.TEI))"
   ]
  },
  {
   "cell_type": "markdown",
   "metadata": {},
   "source": [
    "### (If you are lucky on random) Get sub passage because it's too big\n",
    "\n",
    "Let's get the first and the last passage of this text shall we ?"
   ]
  },
  {
   "cell_type": "code",
   "execution_count": 9,
   "metadata": {},
   "outputs": [
    {
     "name": "stdout",
     "output_type": "stream",
     "text": [
      "<TEI xmlns=\"http://www.tei-c.org/ns/1.0\" xmlns:py=\"http://codespeak.net/lxml/objectify/pytype\" py:pytype=\"TREE\"><dts:fragment xmlns:dts=\"https://w3id.org/dts/api#\"><text><body n=\"urn:cts:latinLit:phi0959.phi006.alpheios-text-lat1\"><div type=\"edition\" xml:lang=\"lat\" n=\"urn:cts:latinLit:phi0959.phi006.alpheios-text-lat1\"><div type=\"textpart\" subtype=\"book\" n=\"3\"><l n=\"1\">Iamque deus posita fallacis imagine tauri</l></div></div></body></text></dts:fragment></TEI>\n"
     ]
    }
   ],
   "source": [
    "first_passage = passage.first\n",
    "print(first_passage.export(Mimetypes.XML.TEI))"
   ]
  },
  {
   "cell_type": "code",
   "execution_count": 10,
   "metadata": {},
   "outputs": [
    {
     "ename": "HTTPError",
     "evalue": "404 Client Error: NOT FOUND for url: https://texts.alpheios.net/api/dts/navigation?id=urn%3Acts%3AlatinLit%3Aphi0959.phi006.alpheios-text-lat1&level=1&groupBy=1&ref=3.1",
     "output_type": "error",
     "traceback": [
      "\u001b[0;31m---------------------------------------------------------------------------\u001b[0m",
      "\u001b[0;31mHTTPError\u001b[0m                                 Traceback (most recent call last)",
      "Cell \u001b[0;32mIn[10], line 2\u001b[0m\n\u001b[1;32m      1\u001b[0m \u001b[38;5;66;03m# Still too big ? Then let's get the child of the child passage\u001b[39;00m\n\u001b[0;32m----> 2\u001b[0m first_passage_last_child \u001b[38;5;241m=\u001b[39m \u001b[43mfirst_passage\u001b[49m\u001b[38;5;241;43m.\u001b[39;49m\u001b[43mlast\u001b[49m\n\u001b[1;32m      3\u001b[0m \u001b[38;5;28mprint\u001b[39m(first_passage_last_child\u001b[38;5;241m.\u001b[39mexport(Mimetypes\u001b[38;5;241m.\u001b[39mXML\u001b[38;5;241m.\u001b[39mTEI))\n",
      "File \u001b[0;32m~/git/cts/MyCapytain/MyCapytain/resources/prototypes/text.py:322\u001b[0m, in \u001b[0;36mInteractiveTextualNode.last\u001b[0;34m(self)\u001b[0m\n\u001b[1;32m    318\u001b[0m \u001b[38;5;129m@property\u001b[39m\n\u001b[1;32m    319\u001b[0m \u001b[38;5;28;01mdef\u001b[39;00m \u001b[38;5;21mlast\u001b[39m(\u001b[38;5;28mself\u001b[39m) \u001b[38;5;241m-\u001b[39m\u001b[38;5;241m>\u001b[39m TextualNode:\n\u001b[1;32m    320\u001b[0m \u001b[38;5;250m    \u001b[39m\u001b[38;5;124;03m\"\"\" Last CapitainsCtsPassage\u001b[39;00m\n\u001b[1;32m    321\u001b[0m \u001b[38;5;124;03m    \"\"\"\u001b[39;00m\n\u001b[0;32m--> 322\u001b[0m     \u001b[38;5;28;01mif\u001b[39;00m \u001b[38;5;28;43mself\u001b[39;49m\u001b[38;5;241;43m.\u001b[39;49m\u001b[43mlastId\u001b[49m \u001b[38;5;129;01mis\u001b[39;00m \u001b[38;5;129;01mnot\u001b[39;00m \u001b[38;5;28;01mNone\u001b[39;00m:\n\u001b[1;32m    323\u001b[0m         \u001b[38;5;28;01mreturn\u001b[39;00m \u001b[38;5;28mself\u001b[39m\u001b[38;5;241m.\u001b[39mgetTextualNode(\u001b[38;5;28mself\u001b[39m\u001b[38;5;241m.\u001b[39mlastId)\n",
      "File \u001b[0;32m~/git/cts/MyCapytain/MyCapytain/resources/prototypes/text.py:350\u001b[0m, in \u001b[0;36mInteractiveTextualNode.lastId\u001b[0;34m(self)\u001b[0m\n\u001b[1;32m    346\u001b[0m \u001b[38;5;129m@property\u001b[39m\n\u001b[1;32m    347\u001b[0m \u001b[38;5;28;01mdef\u001b[39;00m \u001b[38;5;21mlastId\u001b[39m(\u001b[38;5;28mself\u001b[39m) \u001b[38;5;241m-\u001b[39m\u001b[38;5;241m>\u001b[39m BaseReference:\n\u001b[1;32m    348\u001b[0m \u001b[38;5;250m    \u001b[39m\u001b[38;5;124;03m\"\"\" Last child's id of current TextualNode\u001b[39;00m\n\u001b[1;32m    349\u001b[0m \u001b[38;5;124;03m    \"\"\"\u001b[39;00m\n\u001b[0;32m--> 350\u001b[0m     \u001b[38;5;28;01mif\u001b[39;00m \u001b[38;5;28;43mself\u001b[39;49m\u001b[38;5;241;43m.\u001b[39;49m\u001b[43mchildIds\u001b[49m \u001b[38;5;129;01mis\u001b[39;00m \u001b[38;5;129;01mnot\u001b[39;00m \u001b[38;5;28;01mNone\u001b[39;00m:\n\u001b[1;32m    351\u001b[0m         \u001b[38;5;28;01mif\u001b[39;00m \u001b[38;5;28mlen\u001b[39m(\u001b[38;5;28mself\u001b[39m\u001b[38;5;241m.\u001b[39mchildIds) \u001b[38;5;241m>\u001b[39m \u001b[38;5;241m0\u001b[39m:\n\u001b[1;32m    352\u001b[0m             \u001b[38;5;28;01mreturn\u001b[39;00m \u001b[38;5;28mself\u001b[39m\u001b[38;5;241m.\u001b[39mchildIds[\u001b[38;5;241m-\u001b[39m\u001b[38;5;241m1\u001b[39m]\n",
      "File \u001b[0;32m~/git/cts/MyCapytain/MyCapytain/resources/prototypes/text.py:332\u001b[0m, in \u001b[0;36mInteractiveTextualNode.childIds\u001b[0;34m(self)\u001b[0m\n\u001b[1;32m    327\u001b[0m \u001b[38;5;250m\u001b[39m\u001b[38;5;124;03m\"\"\" Identifiers of children\u001b[39;00m\n\u001b[1;32m    328\u001b[0m \n\u001b[1;32m    329\u001b[0m \u001b[38;5;124;03m:return: Identifiers of children\u001b[39;00m\n\u001b[1;32m    330\u001b[0m \u001b[38;5;124;03m\"\"\"\u001b[39;00m\n\u001b[1;32m    331\u001b[0m \u001b[38;5;28;01mif\u001b[39;00m \u001b[38;5;28mself\u001b[39m\u001b[38;5;241m.\u001b[39m_childIds \u001b[38;5;129;01mis\u001b[39;00m \u001b[38;5;28;01mNone\u001b[39;00m:\n\u001b[0;32m--> 332\u001b[0m     \u001b[38;5;28mself\u001b[39m\u001b[38;5;241m.\u001b[39m_childIds \u001b[38;5;241m=\u001b[39m \u001b[38;5;28;43mself\u001b[39;49m\u001b[38;5;241;43m.\u001b[39;49m\u001b[43mgetReffs\u001b[49m\u001b[43m(\u001b[49m\u001b[43m)\u001b[49m\n\u001b[1;32m    333\u001b[0m \u001b[38;5;28;01mreturn\u001b[39;00m \u001b[38;5;28mself\u001b[39m\u001b[38;5;241m.\u001b[39m_childIds\n",
      "File \u001b[0;32m~/git/cts/MyCapytain/MyCapytain/resources/texts/remote/dts/_resolver_v1.py:69\u001b[0m, in \u001b[0;36mDtsResolverDocument.getReffs\u001b[0;34m(self, level, subreference)\u001b[0m\n\u001b[1;32m     68\u001b[0m \u001b[38;5;28;01mdef\u001b[39;00m \u001b[38;5;21mgetReffs\u001b[39m(\u001b[38;5;28mself\u001b[39m, level: \u001b[38;5;28mint\u001b[39m\u001b[38;5;241m=\u001b[39m\u001b[38;5;241m1\u001b[39m, subreference: DtsReference\u001b[38;5;241m=\u001b[39m\u001b[38;5;28;01mNone\u001b[39;00m):\n\u001b[0;32m---> 69\u001b[0m     \u001b[38;5;28;01mreturn\u001b[39;00m \u001b[38;5;28;43mself\u001b[39;49m\u001b[38;5;241;43m.\u001b[39;49m\u001b[43mresolver\u001b[49m\u001b[38;5;241;43m.\u001b[39;49m\u001b[43mgetReffs\u001b[49m\u001b[43m(\u001b[49m\u001b[43mtextId\u001b[49m\u001b[38;5;241;43m=\u001b[39;49m\u001b[38;5;28;43mself\u001b[39;49m\u001b[38;5;241;43m.\u001b[39;49m\u001b[43mid\u001b[49m\u001b[43m,\u001b[49m\u001b[43m \u001b[49m\u001b[43msubreference\u001b[49m\u001b[38;5;241;43m=\u001b[39;49m\u001b[43m(\u001b[49m\u001b[43msubreference\u001b[49m\u001b[43m \u001b[49m\u001b[38;5;129;43;01mor\u001b[39;49;00m\u001b[43m \u001b[49m\u001b[38;5;28;43mself\u001b[39;49m\u001b[38;5;241;43m.\u001b[39;49m\u001b[43mreference\u001b[49m\u001b[43m)\u001b[49m\u001b[43m)\u001b[49m\n",
      "File \u001b[0;32m~/git/cts/MyCapytain/MyCapytain/resolvers/dts/api_v1.py:109\u001b[0m, in \u001b[0;36mHttpDtsResolver.getReffs\u001b[0;34m(self, textId, level, subreference, include_descendants, additional_parameters)\u001b[0m\n\u001b[1;32m    106\u001b[0m \u001b[38;5;28;01mif\u001b[39;00m page \u001b[38;5;241m!=\u001b[39m \u001b[38;5;241m1\u001b[39m:\n\u001b[1;32m    107\u001b[0m     kwargs[\u001b[38;5;124m\"\u001b[39m\u001b[38;5;124mpage\u001b[39m\u001b[38;5;124m\"\u001b[39m] \u001b[38;5;241m=\u001b[39m page\n\u001b[0;32m--> 109\u001b[0m response \u001b[38;5;241m=\u001b[39m \u001b[38;5;28;43mself\u001b[39;49m\u001b[38;5;241;43m.\u001b[39;49m\u001b[43mendpoint\u001b[49m\u001b[38;5;241;43m.\u001b[39;49m\u001b[43mget_navigation\u001b[49m\u001b[43m(\u001b[49m\u001b[43mtextId\u001b[49m\u001b[43m,\u001b[49m\u001b[43m \u001b[49m\u001b[38;5;241;43m*\u001b[39;49m\u001b[38;5;241;43m*\u001b[39;49m\u001b[43mkwargs\u001b[49m\u001b[43m)\u001b[49m\n\u001b[1;32m    110\u001b[0m response\u001b[38;5;241m.\u001b[39mraise_for_status()\n\u001b[1;32m    112\u001b[0m data \u001b[38;5;241m=\u001b[39m response\u001b[38;5;241m.\u001b[39mjson()\n",
      "File \u001b[0;32m~/git/cts/MyCapytain/MyCapytain/retrievers/dts/__init__.py:153\u001b[0m, in \u001b[0;36mHttpDtsRetriever.get_navigation\u001b[0;34m(self, collection_id, level, ref, group_by, max_, exclude, page)\u001b[0m\n\u001b[1;32m    143\u001b[0m parameters \u001b[38;5;241m=\u001b[39m {\n\u001b[1;32m    144\u001b[0m     \u001b[38;5;124m\"\u001b[39m\u001b[38;5;124mid\u001b[39m\u001b[38;5;124m\"\u001b[39m: collection_id,\n\u001b[1;32m    145\u001b[0m     \u001b[38;5;124m\"\u001b[39m\u001b[38;5;124mlevel\u001b[39m\u001b[38;5;124m\"\u001b[39m: level,\n\u001b[0;32m   (...)\u001b[0m\n\u001b[1;32m    149\u001b[0m     \u001b[38;5;124m\"\u001b[39m\u001b[38;5;124mpage\u001b[39m\u001b[38;5;124m\"\u001b[39m: page\n\u001b[1;32m    150\u001b[0m }\n\u001b[1;32m    151\u001b[0m _parse_ref_parameters(parameters, ref)\n\u001b[0;32m--> 153\u001b[0m \u001b[38;5;28;01mreturn\u001b[39;00m \u001b[38;5;28;43mself\u001b[39;49m\u001b[38;5;241;43m.\u001b[39;49m\u001b[43mcall\u001b[49m\u001b[43m(\u001b[49m\n\u001b[1;32m    154\u001b[0m \u001b[43m    \u001b[49m\u001b[38;5;124;43m\"\u001b[39;49m\u001b[38;5;124;43mnavigation\u001b[39;49m\u001b[38;5;124;43m\"\u001b[39;49m\u001b[43m,\u001b[49m\n\u001b[1;32m    155\u001b[0m \u001b[43m    \u001b[49m\u001b[43mparameters\u001b[49m\n\u001b[1;32m    156\u001b[0m \u001b[43m\u001b[49m\u001b[43m)\u001b[49m\n",
      "File \u001b[0;32m~/git/cts/MyCapytain/MyCapytain/retrievers/dts/__init__.py:70\u001b[0m, in \u001b[0;36mHttpDtsRetriever.call\u001b[0;34m(self, route, parameters, mimetype, defaults)\u001b[0m\n\u001b[1;32m     56\u001b[0m parameters\u001b[38;5;241m.\u001b[39mupdate(\u001b[38;5;28mself\u001b[39m\u001b[38;5;241m.\u001b[39mroutes[route]\u001b[38;5;241m.\u001b[39mquery_dict)\n\u001b[1;32m     58\u001b[0m request \u001b[38;5;241m=\u001b[39m requests\u001b[38;5;241m.\u001b[39mget(\n\u001b[1;32m     59\u001b[0m     \u001b[38;5;28mself\u001b[39m\u001b[38;5;241m.\u001b[39mroutes[route]\u001b[38;5;241m.\u001b[39mpath,\n\u001b[1;32m     60\u001b[0m     params\u001b[38;5;241m=\u001b[39mparameters,\n\u001b[0;32m   (...)\u001b[0m\n\u001b[1;32m     68\u001b[0m     }\n\u001b[1;32m     69\u001b[0m )\n\u001b[0;32m---> 70\u001b[0m \u001b[43mrequest\u001b[49m\u001b[38;5;241;43m.\u001b[39;49m\u001b[43mraise_for_status\u001b[49m\u001b[43m(\u001b[49m\u001b[43m)\u001b[49m\n\u001b[1;32m     71\u001b[0m \u001b[38;5;28;01mif\u001b[39;00m request\u001b[38;5;241m.\u001b[39mencoding \u001b[38;5;129;01mis\u001b[39;00m \u001b[38;5;28;01mNone\u001b[39;00m:\n\u001b[1;32m     72\u001b[0m     request\u001b[38;5;241m.\u001b[39mencoding \u001b[38;5;241m=\u001b[39m \u001b[38;5;124m\"\u001b[39m\u001b[38;5;124mutf-8\u001b[39m\u001b[38;5;124m\"\u001b[39m\n",
      "File \u001b[0;32m~/git/cts/MyCapytain/.venv/lib/python3.9/site-packages/requests/models.py:1024\u001b[0m, in \u001b[0;36mResponse.raise_for_status\u001b[0;34m(self)\u001b[0m\n\u001b[1;32m   1019\u001b[0m     http_error_msg \u001b[38;5;241m=\u001b[39m (\n\u001b[1;32m   1020\u001b[0m         \u001b[38;5;124mf\u001b[39m\u001b[38;5;124m\"\u001b[39m\u001b[38;5;132;01m{\u001b[39;00m\u001b[38;5;28mself\u001b[39m\u001b[38;5;241m.\u001b[39mstatus_code\u001b[38;5;132;01m}\u001b[39;00m\u001b[38;5;124m Server Error: \u001b[39m\u001b[38;5;132;01m{\u001b[39;00mreason\u001b[38;5;132;01m}\u001b[39;00m\u001b[38;5;124m for url: \u001b[39m\u001b[38;5;132;01m{\u001b[39;00m\u001b[38;5;28mself\u001b[39m\u001b[38;5;241m.\u001b[39murl\u001b[38;5;132;01m}\u001b[39;00m\u001b[38;5;124m\"\u001b[39m\n\u001b[1;32m   1021\u001b[0m     )\n\u001b[1;32m   1023\u001b[0m \u001b[38;5;28;01mif\u001b[39;00m http_error_msg:\n\u001b[0;32m-> 1024\u001b[0m     \u001b[38;5;28;01mraise\u001b[39;00m HTTPError(http_error_msg, response\u001b[38;5;241m=\u001b[39m\u001b[38;5;28mself\u001b[39m)\n",
      "\u001b[0;31mHTTPError\u001b[0m: 404 Client Error: NOT FOUND for url: https://texts.alpheios.net/api/dts/navigation?id=urn%3Acts%3AlatinLit%3Aphi0959.phi006.alpheios-text-lat1&level=1&groupBy=1&ref=3.1"
     ]
    }
   ],
   "source": [
    "# Still too big ? Then let's get the child of the child passage\n",
    "first_passage_last_child = first_passage.last\n",
    "print(first_passage_last_child.export(Mimetypes.XML.TEI))"
   ]
  }
 ],
 "metadata": {
  "kernelspec": {
   "display_name": "Python 3",
   "language": "python",
   "name": "python3"
  },
  "language_info": {
   "codemirror_mode": {
    "name": "ipython",
    "version": 3
   },
   "file_extension": ".py",
   "mimetype": "text/x-python",
   "name": "python",
   "nbconvert_exporter": "python",
   "pygments_lexer": "ipython3",
   "version": "3.9.11"
  }
 },
 "nbformat": 4,
 "nbformat_minor": 2
}
